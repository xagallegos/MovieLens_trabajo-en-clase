{
 "cells": [
  {
   "cell_type": "markdown",
   "id": "fa808157-fee7-422f-9668-e2670d8c0397",
   "metadata": {},
   "source": [
    "# Tarea 3"
   ]
  },
  {
   "cell_type": "code",
   "execution_count": 1,
   "id": "initial_id",
   "metadata": {
    "is_executing": true
   },
   "outputs": [],
   "source": [
    "import pandas as pd\n",
    "import numpy as np\n",
    "import itertools"
   ]
  },
  {
   "cell_type": "code",
   "execution_count": 2,
   "id": "65297f6d-b192-47ed-8e13-966a532e3d44",
   "metadata": {},
   "outputs": [
    {
     "name": "stdout",
     "output_type": "stream",
     "text": [
      "(100836, 4)\n"
     ]
    },
    {
     "data": {
      "text/html": [
       "<div>\n",
       "<style scoped>\n",
       "    .dataframe tbody tr th:only-of-type {\n",
       "        vertical-align: middle;\n",
       "    }\n",
       "\n",
       "    .dataframe tbody tr th {\n",
       "        vertical-align: top;\n",
       "    }\n",
       "\n",
       "    .dataframe thead th {\n",
       "        text-align: right;\n",
       "    }\n",
       "</style>\n",
       "<table border=\"1\" class=\"dataframe\">\n",
       "  <thead>\n",
       "    <tr style=\"text-align: right;\">\n",
       "      <th></th>\n",
       "      <th>userId</th>\n",
       "      <th>movieId</th>\n",
       "      <th>rating</th>\n",
       "      <th>timestamp</th>\n",
       "    </tr>\n",
       "  </thead>\n",
       "  <tbody>\n",
       "    <tr>\n",
       "      <th>0</th>\n",
       "      <td>1</td>\n",
       "      <td>1</td>\n",
       "      <td>4.0</td>\n",
       "      <td>964982703</td>\n",
       "    </tr>\n",
       "    <tr>\n",
       "      <th>1</th>\n",
       "      <td>1</td>\n",
       "      <td>3</td>\n",
       "      <td>4.0</td>\n",
       "      <td>964981247</td>\n",
       "    </tr>\n",
       "    <tr>\n",
       "      <th>2</th>\n",
       "      <td>1</td>\n",
       "      <td>6</td>\n",
       "      <td>4.0</td>\n",
       "      <td>964982224</td>\n",
       "    </tr>\n",
       "    <tr>\n",
       "      <th>3</th>\n",
       "      <td>1</td>\n",
       "      <td>47</td>\n",
       "      <td>5.0</td>\n",
       "      <td>964983815</td>\n",
       "    </tr>\n",
       "    <tr>\n",
       "      <th>4</th>\n",
       "      <td>1</td>\n",
       "      <td>50</td>\n",
       "      <td>5.0</td>\n",
       "      <td>964982931</td>\n",
       "    </tr>\n",
       "  </tbody>\n",
       "</table>\n",
       "</div>"
      ],
      "text/plain": [
       "   userId  movieId  rating  timestamp\n",
       "0       1        1     4.0  964982703\n",
       "1       1        3     4.0  964981247\n",
       "2       1        6     4.0  964982224\n",
       "3       1       47     5.0  964983815\n",
       "4       1       50     5.0  964982931"
      ]
     },
     "execution_count": 2,
     "metadata": {},
     "output_type": "execute_result"
    }
   ],
   "source": [
    "ratings = pd.read_csv('../data/ratings.csv')\n",
    "print(ratings.shape)\n",
    "ratings.head()"
   ]
  },
  {
   "cell_type": "code",
   "execution_count": 3,
   "id": "68e1348a-2aa7-462d-bf76-ef740da388b4",
   "metadata": {},
   "outputs": [
    {
     "name": "stdout",
     "output_type": "stream",
     "text": [
      "(9742, 3)\n"
     ]
    },
    {
     "data": {
      "text/html": [
       "<div>\n",
       "<style scoped>\n",
       "    .dataframe tbody tr th:only-of-type {\n",
       "        vertical-align: middle;\n",
       "    }\n",
       "\n",
       "    .dataframe tbody tr th {\n",
       "        vertical-align: top;\n",
       "    }\n",
       "\n",
       "    .dataframe thead th {\n",
       "        text-align: right;\n",
       "    }\n",
       "</style>\n",
       "<table border=\"1\" class=\"dataframe\">\n",
       "  <thead>\n",
       "    <tr style=\"text-align: right;\">\n",
       "      <th></th>\n",
       "      <th>movieId</th>\n",
       "      <th>title</th>\n",
       "      <th>genres</th>\n",
       "    </tr>\n",
       "  </thead>\n",
       "  <tbody>\n",
       "    <tr>\n",
       "      <th>0</th>\n",
       "      <td>1</td>\n",
       "      <td>Toy Story (1995)</td>\n",
       "      <td>Adventure|Animation|Children|Comedy|Fantasy</td>\n",
       "    </tr>\n",
       "    <tr>\n",
       "      <th>1</th>\n",
       "      <td>2</td>\n",
       "      <td>Jumanji (1995)</td>\n",
       "      <td>Adventure|Children|Fantasy</td>\n",
       "    </tr>\n",
       "    <tr>\n",
       "      <th>2</th>\n",
       "      <td>3</td>\n",
       "      <td>Grumpier Old Men (1995)</td>\n",
       "      <td>Comedy|Romance</td>\n",
       "    </tr>\n",
       "    <tr>\n",
       "      <th>3</th>\n",
       "      <td>4</td>\n",
       "      <td>Waiting to Exhale (1995)</td>\n",
       "      <td>Comedy|Drama|Romance</td>\n",
       "    </tr>\n",
       "    <tr>\n",
       "      <th>4</th>\n",
       "      <td>5</td>\n",
       "      <td>Father of the Bride Part II (1995)</td>\n",
       "      <td>Comedy</td>\n",
       "    </tr>\n",
       "  </tbody>\n",
       "</table>\n",
       "</div>"
      ],
      "text/plain": [
       "   movieId                               title  \\\n",
       "0        1                    Toy Story (1995)   \n",
       "1        2                      Jumanji (1995)   \n",
       "2        3             Grumpier Old Men (1995)   \n",
       "3        4            Waiting to Exhale (1995)   \n",
       "4        5  Father of the Bride Part II (1995)   \n",
       "\n",
       "                                        genres  \n",
       "0  Adventure|Animation|Children|Comedy|Fantasy  \n",
       "1                   Adventure|Children|Fantasy  \n",
       "2                               Comedy|Romance  \n",
       "3                         Comedy|Drama|Romance  \n",
       "4                                       Comedy  "
      ]
     },
     "execution_count": 3,
     "metadata": {},
     "output_type": "execute_result"
    }
   ],
   "source": [
    "movies = pd.read_csv('../data/movies.csv')\n",
    "print(movies.shape)\n",
    "movies.head()"
   ]
  },
  {
   "cell_type": "markdown",
   "id": "395110a2-a48b-4f65-a076-a4f3195a7190",
   "metadata": {},
   "source": [
    "## ¿Cuáles fueron los géneros mejor rankeados en promedio en el año 2005?"
   ]
  },
  {
   "cell_type": "code",
   "execution_count": 4,
   "id": "fb469193-3bf8-4232-800a-7ae4dcc1e64a",
   "metadata": {
    "is_executing": true,
    "scrolled": true
   },
   "outputs": [],
   "source": [
    "movies_groupby = ratings.groupby(['movieId'])\n",
    "\n",
    "rated_movies = movies_groupby.mean().merge(movies, on='movieId').drop(columns=['userId', 'timestamp'])\n",
    "# rated_movies.sort_values('rating', ascending=False).head()"
   ]
  },
  {
   "cell_type": "code",
   "execution_count": 5,
   "id": "be2b1944-f42f-4d98-b363-ae2b5a923508",
   "metadata": {
    "scrolled": true
   },
   "outputs": [],
   "source": [
    "rated_movies['genres'] = rated_movies['genres'].str.split('|')\n",
    "# rated_movies.head()"
   ]
  },
  {
   "cell_type": "code",
   "execution_count": 6,
   "id": "ff1c149f-0eef-4cef-8809-77c19dfe6902",
   "metadata": {
    "scrolled": true
   },
   "outputs": [
    {
     "data": {
      "text/html": [
       "<div>\n",
       "<style scoped>\n",
       "    .dataframe tbody tr th:only-of-type {\n",
       "        vertical-align: middle;\n",
       "    }\n",
       "\n",
       "    .dataframe tbody tr th {\n",
       "        vertical-align: top;\n",
       "    }\n",
       "\n",
       "    .dataframe thead th {\n",
       "        text-align: right;\n",
       "    }\n",
       "</style>\n",
       "<table border=\"1\" class=\"dataframe\">\n",
       "  <thead>\n",
       "    <tr style=\"text-align: right;\">\n",
       "      <th></th>\n",
       "      <th>movieId</th>\n",
       "      <th>rating</th>\n",
       "      <th>title</th>\n",
       "      <th>genres</th>\n",
       "    </tr>\n",
       "  </thead>\n",
       "  <tbody>\n",
       "    <tr>\n",
       "      <th>12385</th>\n",
       "      <td>27618</td>\n",
       "      <td>2.75</td>\n",
       "      <td>Sound of Thunder, A (2005)</td>\n",
       "      <td>Action</td>\n",
       "    </tr>\n",
       "    <tr>\n",
       "      <th>12386</th>\n",
       "      <td>27618</td>\n",
       "      <td>2.75</td>\n",
       "      <td>Sound of Thunder, A (2005)</td>\n",
       "      <td>Adventure</td>\n",
       "    </tr>\n",
       "    <tr>\n",
       "      <th>12387</th>\n",
       "      <td>27618</td>\n",
       "      <td>2.75</td>\n",
       "      <td>Sound of Thunder, A (2005)</td>\n",
       "      <td>Drama</td>\n",
       "    </tr>\n",
       "    <tr>\n",
       "      <th>12388</th>\n",
       "      <td>27618</td>\n",
       "      <td>2.75</td>\n",
       "      <td>Sound of Thunder, A (2005)</td>\n",
       "      <td>Sci-Fi</td>\n",
       "    </tr>\n",
       "    <tr>\n",
       "      <th>12389</th>\n",
       "      <td>27618</td>\n",
       "      <td>2.75</td>\n",
       "      <td>Sound of Thunder, A (2005)</td>\n",
       "      <td>Thriller</td>\n",
       "    </tr>\n",
       "  </tbody>\n",
       "</table>\n",
       "</div>"
      ],
      "text/plain": [
       "       movieId  rating                       title     genres\n",
       "12385    27618    2.75  Sound of Thunder, A (2005)     Action\n",
       "12386    27618    2.75  Sound of Thunder, A (2005)  Adventure\n",
       "12387    27618    2.75  Sound of Thunder, A (2005)      Drama\n",
       "12388    27618    2.75  Sound of Thunder, A (2005)     Sci-Fi\n",
       "12389    27618    2.75  Sound of Thunder, A (2005)   Thriller"
      ]
     },
     "execution_count": 6,
     "metadata": {},
     "output_type": "execute_result"
    }
   ],
   "source": [
    "# from https://stackoverflow.com/questions/40569402/pandas-create-several-rows-from-column-that-is-a-list\n",
    "def melt_series(s):\n",
    "    lengths = s.str.len().values\n",
    "    flat = [i for i in itertools.chain.from_iterable(s.values.tolist())]\n",
    "    idx = np.repeat(s.index.values, lengths)\n",
    "    return pd.Series(flat, idx, name=s.name)\n",
    "\n",
    "splited_genres = rated_movies.drop(columns=['genres']).join(melt_series(rated_movies.genres).to_frame()).reset_index(drop=True)\n",
    "movies_2005 = splited_genres[splited_genres.title.str.endswith('(2005)')]\n",
    "movies_2005.head()"
   ]
  },
  {
   "cell_type": "code",
   "execution_count": 7,
   "id": "b5ebb31e-6dcf-4190-84f5-af436197807f",
   "metadata": {},
   "outputs": [
    {
     "data": {
      "text/html": [
       "<div>\n",
       "<style scoped>\n",
       "    .dataframe tbody tr th:only-of-type {\n",
       "        vertical-align: middle;\n",
       "    }\n",
       "\n",
       "    .dataframe tbody tr th {\n",
       "        vertical-align: top;\n",
       "    }\n",
       "\n",
       "    .dataframe thead th {\n",
       "        text-align: right;\n",
       "    }\n",
       "</style>\n",
       "<table border=\"1\" class=\"dataframe\">\n",
       "  <thead>\n",
       "    <tr style=\"text-align: right;\">\n",
       "      <th></th>\n",
       "      <th>rating</th>\n",
       "    </tr>\n",
       "    <tr>\n",
       "      <th>genres</th>\n",
       "      <th></th>\n",
       "    </tr>\n",
       "  </thead>\n",
       "  <tbody>\n",
       "    <tr>\n",
       "      <th>Film-Noir</th>\n",
       "      <td>4.077381</td>\n",
       "    </tr>\n",
       "    <tr>\n",
       "      <th>War</th>\n",
       "      <td>3.781869</td>\n",
       "    </tr>\n",
       "    <tr>\n",
       "      <th>Documentary</th>\n",
       "      <td>3.773495</td>\n",
       "    </tr>\n",
       "    <tr>\n",
       "      <th>Animation</th>\n",
       "      <td>3.443075</td>\n",
       "    </tr>\n",
       "    <tr>\n",
       "      <th>IMAX</th>\n",
       "      <td>3.426322</td>\n",
       "    </tr>\n",
       "  </tbody>\n",
       "</table>\n",
       "</div>"
      ],
      "text/plain": [
       "               rating\n",
       "genres               \n",
       "Film-Noir    4.077381\n",
       "War          3.781869\n",
       "Documentary  3.773495\n",
       "Animation    3.443075\n",
       "IMAX         3.426322"
      ]
     },
     "execution_count": 7,
     "metadata": {},
     "output_type": "execute_result"
    }
   ],
   "source": [
    "best_genres = movies_2005.drop(columns=['movieId', 'title']).groupby('genres').mean().sort_values(by='rating', ascending=False)\n",
    "best_genres.head()"
   ]
  },
  {
   "cell_type": "markdown",
   "id": "d7eab7f2-2fcd-4fb6-b688-2f395bac58c0",
   "metadata": {},
   "source": [
    "## ¿Cuál es el top 5 de películas mejor rankeadas en promedio?"
   ]
  },
  {
   "cell_type": "code",
   "execution_count": 8,
   "id": "b30ee292-5aa6-4994-ae0c-9092d4128906",
   "metadata": {},
   "outputs": [
    {
     "data": {
      "text/html": [
       "<div>\n",
       "<style scoped>\n",
       "    .dataframe tbody tr th:only-of-type {\n",
       "        vertical-align: middle;\n",
       "    }\n",
       "\n",
       "    .dataframe tbody tr th {\n",
       "        vertical-align: top;\n",
       "    }\n",
       "\n",
       "    .dataframe thead th {\n",
       "        text-align: right;\n",
       "    }\n",
       "</style>\n",
       "<table border=\"1\" class=\"dataframe\">\n",
       "  <thead>\n",
       "    <tr style=\"text-align: right;\">\n",
       "      <th></th>\n",
       "      <th>movieId</th>\n",
       "      <th>rating</th>\n",
       "      <th>title</th>\n",
       "      <th>genres</th>\n",
       "    </tr>\n",
       "  </thead>\n",
       "  <tbody>\n",
       "    <tr>\n",
       "      <th>7638</th>\n",
       "      <td>88448</td>\n",
       "      <td>5.0</td>\n",
       "      <td>Paper Birds (Pájaros de papel) (2010)</td>\n",
       "      <td>[Comedy, Drama]</td>\n",
       "    </tr>\n",
       "    <tr>\n",
       "      <th>8089</th>\n",
       "      <td>100556</td>\n",
       "      <td>5.0</td>\n",
       "      <td>Act of Killing, The (2012)</td>\n",
       "      <td>[Documentary]</td>\n",
       "    </tr>\n",
       "    <tr>\n",
       "      <th>9065</th>\n",
       "      <td>143031</td>\n",
       "      <td>5.0</td>\n",
       "      <td>Jump In! (2007)</td>\n",
       "      <td>[Comedy, Drama, Romance]</td>\n",
       "    </tr>\n",
       "    <tr>\n",
       "      <th>9076</th>\n",
       "      <td>143511</td>\n",
       "      <td>5.0</td>\n",
       "      <td>Human (2015)</td>\n",
       "      <td>[Documentary]</td>\n",
       "    </tr>\n",
       "    <tr>\n",
       "      <th>9078</th>\n",
       "      <td>143559</td>\n",
       "      <td>5.0</td>\n",
       "      <td>L.A. Slasher (2015)</td>\n",
       "      <td>[Comedy, Crime, Fantasy]</td>\n",
       "    </tr>\n",
       "  </tbody>\n",
       "</table>\n",
       "</div>"
      ],
      "text/plain": [
       "      movieId  rating                                  title  \\\n",
       "7638    88448     5.0  Paper Birds (Pájaros de papel) (2010)   \n",
       "8089   100556     5.0             Act of Killing, The (2012)   \n",
       "9065   143031     5.0                        Jump In! (2007)   \n",
       "9076   143511     5.0                           Human (2015)   \n",
       "9078   143559     5.0                    L.A. Slasher (2015)   \n",
       "\n",
       "                        genres  \n",
       "7638           [Comedy, Drama]  \n",
       "8089             [Documentary]  \n",
       "9065  [Comedy, Drama, Romance]  \n",
       "9076             [Documentary]  \n",
       "9078  [Comedy, Crime, Fantasy]  "
      ]
     },
     "execution_count": 8,
     "metadata": {},
     "output_type": "execute_result"
    }
   ],
   "source": [
    "rated_movies.sort_values(by='rating', ascending=False).head()"
   ]
  },
  {
   "cell_type": "code",
   "execution_count": 9,
   "id": "4002cf8c-8836-487f-8c20-c3fff17dea74",
   "metadata": {},
   "outputs": [
    {
     "data": {
      "text/plain": [
       "296"
      ]
     },
     "execution_count": 9,
     "metadata": {},
     "output_type": "execute_result"
    }
   ],
   "source": [
    "# Películas con promedio de rating == 5.0\n",
    "len(rated_movies.loc[rated_movies.rating == 5])"
   ]
  },
  {
   "cell_type": "markdown",
   "id": "cd5729f2-5ac9-4806-ad25-a688dba28739",
   "metadata": {},
   "source": [
    "## ¿Cuál es el género con más reviews?"
   ]
  },
  {
   "cell_type": "code",
   "execution_count": 44,
   "id": "eb99dc81-2b79-4f66-ae5a-009c08fc23a8",
   "metadata": {},
   "outputs": [
    {
     "data": {
      "text/html": [
       "<div>\n",
       "<style scoped>\n",
       "    .dataframe tbody tr th:only-of-type {\n",
       "        vertical-align: middle;\n",
       "    }\n",
       "\n",
       "    .dataframe tbody tr th {\n",
       "        vertical-align: top;\n",
       "    }\n",
       "\n",
       "    .dataframe thead th {\n",
       "        text-align: right;\n",
       "    }\n",
       "</style>\n",
       "<table border=\"1\" class=\"dataframe\">\n",
       "  <thead>\n",
       "    <tr style=\"text-align: right;\">\n",
       "      <th></th>\n",
       "      <th>rating</th>\n",
       "    </tr>\n",
       "    <tr>\n",
       "      <th>genres</th>\n",
       "      <th></th>\n",
       "    </tr>\n",
       "  </thead>\n",
       "  <tbody>\n",
       "    <tr>\n",
       "      <th>Drama</th>\n",
       "      <td>41928</td>\n",
       "    </tr>\n",
       "    <tr>\n",
       "      <th>Comedy</th>\n",
       "      <td>39053</td>\n",
       "    </tr>\n",
       "    <tr>\n",
       "      <th>Action</th>\n",
       "      <td>30635</td>\n",
       "    </tr>\n",
       "  </tbody>\n",
       "</table>\n",
       "</div>"
      ],
      "text/plain": [
       "        rating\n",
       "genres        \n",
       "Drama    41928\n",
       "Comedy   39053\n",
       "Action   30635"
      ]
     },
     "execution_count": 44,
     "metadata": {},
     "output_type": "execute_result"
    }
   ],
   "source": [
    "ratings_count = splited_genres.drop(columns=['rating', 'title']).merge(ratings, on='movieId')\n",
    "ratings_count = ratings_count.drop(columns=['movieId', 'userId','timestamp']).groupby('genres').count()\n",
    "ratings_count.sort_values(by='rating', ascending=False).head(3)"
   ]
  },
  {
   "cell_type": "markdown",
   "id": "168c131c-3681-4efb-b64c-752e9ad82325",
   "metadata": {},
   "source": [
    "## ¿Cuáles es el género por año con mejor rating entre el año 2000 y 2010?"
   ]
  },
  {
   "cell_type": "code",
   "execution_count": 11,
   "id": "65ca3fe0-f0dd-4f38-a618-5c961cd25b93",
   "metadata": {},
   "outputs": [
    {
     "data": {
      "text/plain": [
       "{2000: 'War',\n",
       " 2001: 'Documentary',\n",
       " 2002: 'Documentary',\n",
       " 2003: 'Documentary',\n",
       " 2004: 'Documentary',\n",
       " 2005: 'Film-Noir',\n",
       " 2006: 'Documentary',\n",
       " 2007: 'Western',\n",
       " 2008: 'War',\n",
       " 2009: 'Western',\n",
       " 2010: 'Mystery'}"
      ]
     },
     "execution_count": 11,
     "metadata": {},
     "output_type": "execute_result"
    }
   ],
   "source": [
    "years = range(2000, 2011)\n",
    "genre_by_year = {}\n",
    "\n",
    "for y in years:\n",
    "    movies_ = splited_genres[splited_genres.title.str.endswith(f'({y})')]\n",
    "    best_genre = movies_.drop(columns=['movieId', 'title']).groupby('genres').mean().sort_values(by='rating', ascending=False).head(1).index[0]\n",
    "    genre_by_year[y] = best_genre\n",
    "\n",
    "genre_by_year"
   ]
  },
  {
   "cell_type": "markdown",
   "id": "7ae582fa-20f4-4aea-9230-79ae20e6a56b",
   "metadata": {},
   "source": [
    "## ¿Cuál es el usuario con más críticas y cuál es su género favorito?"
   ]
  },
  {
   "cell_type": "code",
   "execution_count": 12,
   "id": "6989b173-8954-4baa-8c5c-06ee144d7390",
   "metadata": {},
   "outputs": [
    {
     "data": {
      "text/html": [
       "<div>\n",
       "<style scoped>\n",
       "    .dataframe tbody tr th:only-of-type {\n",
       "        vertical-align: middle;\n",
       "    }\n",
       "\n",
       "    .dataframe tbody tr th {\n",
       "        vertical-align: top;\n",
       "    }\n",
       "\n",
       "    .dataframe thead th {\n",
       "        text-align: right;\n",
       "    }\n",
       "</style>\n",
       "<table border=\"1\" class=\"dataframe\">\n",
       "  <thead>\n",
       "    <tr style=\"text-align: right;\">\n",
       "      <th></th>\n",
       "      <th>rating</th>\n",
       "    </tr>\n",
       "    <tr>\n",
       "      <th>genres</th>\n",
       "      <th></th>\n",
       "    </tr>\n",
       "  </thead>\n",
       "  <tbody>\n",
       "    <tr>\n",
       "      <th>(no genres listed)</th>\n",
       "      <td>4.250000</td>\n",
       "    </tr>\n",
       "    <tr>\n",
       "      <th>Film-Noir</th>\n",
       "      <td>3.857143</td>\n",
       "    </tr>\n",
       "    <tr>\n",
       "      <th>War</th>\n",
       "      <td>3.830645</td>\n",
       "    </tr>\n",
       "  </tbody>\n",
       "</table>\n",
       "</div>"
      ],
      "text/plain": [
       "                      rating\n",
       "genres                      \n",
       "(no genres listed)  4.250000\n",
       "Film-Noir           3.857143\n",
       "War                 3.830645"
      ]
     },
     "execution_count": 12,
     "metadata": {},
     "output_type": "execute_result"
    }
   ],
   "source": [
    "ratings_per_user = ratings.groupby(['userId']).count()\n",
    "user = ratings_per_user['rating'].sort_values(ascending=False).head().index[0]\n",
    "user = ratings.loc[ratings.userId == user].drop(columns=['userId', 'timestamp'])\n",
    "user = user.merge(splited_genres.drop(columns=['rating', 'title']), on='movieId').drop(columns=['movieId']).groupby('genres').mean()\n",
    "user.sort_values(by='rating', ascending=False).head(3)"
   ]
  },
  {
   "cell_type": "markdown",
   "id": "54bc135b-00d4-4326-a257-150376470e92",
   "metadata": {},
   "source": [
    "## ¿Cuál es el género con más películas y cuál es su promedio de reviews?"
   ]
  },
  {
   "cell_type": "code",
   "execution_count": 90,
   "id": "145c8974-ccfc-46f8-b862-712f26c639aa",
   "metadata": {},
   "outputs": [
    {
     "data": {
      "text/html": [
       "<div>\n",
       "<style scoped>\n",
       "    .dataframe tbody tr th:only-of-type {\n",
       "        vertical-align: middle;\n",
       "    }\n",
       "\n",
       "    .dataframe tbody tr th {\n",
       "        vertical-align: top;\n",
       "    }\n",
       "\n",
       "    .dataframe thead th {\n",
       "        text-align: right;\n",
       "    }\n",
       "</style>\n",
       "<table border=\"1\" class=\"dataframe\">\n",
       "  <thead>\n",
       "    <tr style=\"text-align: right;\">\n",
       "      <th></th>\n",
       "      <th>movie_count</th>\n",
       "      <th>rating</th>\n",
       "    </tr>\n",
       "    <tr>\n",
       "      <th>genres</th>\n",
       "      <th></th>\n",
       "      <th></th>\n",
       "    </tr>\n",
       "  </thead>\n",
       "  <tbody>\n",
       "    <tr>\n",
       "      <th>Drama</th>\n",
       "      <td>4361</td>\n",
       "      <td>3.420905</td>\n",
       "    </tr>\n",
       "    <tr>\n",
       "      <th>Comedy</th>\n",
       "      <td>3756</td>\n",
       "      <td>3.181716</td>\n",
       "    </tr>\n",
       "    <tr>\n",
       "      <th>Thriller</th>\n",
       "      <td>1894</td>\n",
       "      <td>3.156116</td>\n",
       "    </tr>\n",
       "  </tbody>\n",
       "</table>\n",
       "</div>"
      ],
      "text/plain": [
       "          movie_count    rating\n",
       "genres                         \n",
       "Drama            4361  3.420905\n",
       "Comedy           3756  3.181716\n",
       "Thriller         1894  3.156116"
      ]
     },
     "execution_count": 90,
     "metadata": {},
     "output_type": "execute_result"
    }
   ],
   "source": [
    "# movies_by_genre = splited_genres.drop(columns=['movieId', 'title'])\n",
    "movies_by_genre = movies.drop(columns=['genres', 'title']).join(melt_series(movies.genres.str.split('|'))).groupby('genres').count()\n",
    "genres_rating = splited_genres.drop(columns=['movieId', 'title']).groupby('genres').mean()\n",
    "\n",
    "movies_by_genre = movies_by_genre.merge(genres_rating, on='genres', suffixes=('_count', '_mean')).rename(columns={'movieId':'movie_count'})\n",
    "\n",
    "movies_by_genre.sort_values(by='movie_count', ascending=False).head(3)"
   ]
  },
  {
   "cell_type": "markdown",
   "id": "5be8a515-deb4-46f8-999a-ef3155a921b3",
   "metadata": {},
   "source": [
    "## ¿Qué películas no tienen ningún review?"
   ]
  },
  {
   "cell_type": "code",
   "execution_count": 113,
   "id": "12886b3d-9256-4aea-86d2-3044ab8bbba8",
   "metadata": {},
   "outputs": [
    {
     "data": {
      "text/html": [
       "<div>\n",
       "<style scoped>\n",
       "    .dataframe tbody tr th:only-of-type {\n",
       "        vertical-align: middle;\n",
       "    }\n",
       "\n",
       "    .dataframe tbody tr th {\n",
       "        vertical-align: top;\n",
       "    }\n",
       "\n",
       "    .dataframe thead th {\n",
       "        text-align: right;\n",
       "    }\n",
       "</style>\n",
       "<table border=\"1\" class=\"dataframe\">\n",
       "  <thead>\n",
       "    <tr style=\"text-align: right;\">\n",
       "      <th></th>\n",
       "      <th>movieId</th>\n",
       "      <th>title</th>\n",
       "      <th>userId</th>\n",
       "    </tr>\n",
       "  </thead>\n",
       "  <tbody>\n",
       "    <tr>\n",
       "      <th>816</th>\n",
       "      <td>1076</td>\n",
       "      <td>Innocents, The (1961)</td>\n",
       "      <td>NaN</td>\n",
       "    </tr>\n",
       "    <tr>\n",
       "      <th>2211</th>\n",
       "      <td>2939</td>\n",
       "      <td>Niagara (1953)</td>\n",
       "      <td>NaN</td>\n",
       "    </tr>\n",
       "    <tr>\n",
       "      <th>2499</th>\n",
       "      <td>3338</td>\n",
       "      <td>For All Mankind (1989)</td>\n",
       "      <td>NaN</td>\n",
       "    </tr>\n",
       "    <tr>\n",
       "      <th>2587</th>\n",
       "      <td>3456</td>\n",
       "      <td>Color of Paradise, The (Rang-e khoda) (1999)</td>\n",
       "      <td>NaN</td>\n",
       "    </tr>\n",
       "    <tr>\n",
       "      <th>3118</th>\n",
       "      <td>4194</td>\n",
       "      <td>I Know Where I'm Going! (1945)</td>\n",
       "      <td>NaN</td>\n",
       "    </tr>\n",
       "    <tr>\n",
       "      <th>4037</th>\n",
       "      <td>5721</td>\n",
       "      <td>Chosen, The (1981)</td>\n",
       "      <td>NaN</td>\n",
       "    </tr>\n",
       "    <tr>\n",
       "      <th>4506</th>\n",
       "      <td>6668</td>\n",
       "      <td>Road Home, The (Wo de fu qin mu qin) (1999)</td>\n",
       "      <td>NaN</td>\n",
       "    </tr>\n",
       "    <tr>\n",
       "      <th>4598</th>\n",
       "      <td>6849</td>\n",
       "      <td>Scrooge (1970)</td>\n",
       "      <td>NaN</td>\n",
       "    </tr>\n",
       "    <tr>\n",
       "      <th>4704</th>\n",
       "      <td>7020</td>\n",
       "      <td>Proof (1991)</td>\n",
       "      <td>NaN</td>\n",
       "    </tr>\n",
       "    <tr>\n",
       "      <th>5020</th>\n",
       "      <td>7792</td>\n",
       "      <td>Parallax View, The (1974)</td>\n",
       "      <td>NaN</td>\n",
       "    </tr>\n",
       "    <tr>\n",
       "      <th>5293</th>\n",
       "      <td>8765</td>\n",
       "      <td>This Gun for Hire (1942)</td>\n",
       "      <td>NaN</td>\n",
       "    </tr>\n",
       "    <tr>\n",
       "      <th>5421</th>\n",
       "      <td>25855</td>\n",
       "      <td>Roaring Twenties, The (1939)</td>\n",
       "      <td>NaN</td>\n",
       "    </tr>\n",
       "    <tr>\n",
       "      <th>5452</th>\n",
       "      <td>26085</td>\n",
       "      <td>Mutiny on the Bounty (1962)</td>\n",
       "      <td>NaN</td>\n",
       "    </tr>\n",
       "    <tr>\n",
       "      <th>5749</th>\n",
       "      <td>30892</td>\n",
       "      <td>In the Realms of the Unreal (2004)</td>\n",
       "      <td>NaN</td>\n",
       "    </tr>\n",
       "    <tr>\n",
       "      <th>5824</th>\n",
       "      <td>32160</td>\n",
       "      <td>Twentieth Century (1934)</td>\n",
       "      <td>NaN</td>\n",
       "    </tr>\n",
       "    <tr>\n",
       "      <th>5837</th>\n",
       "      <td>32371</td>\n",
       "      <td>Call Northside 777 (1948)</td>\n",
       "      <td>NaN</td>\n",
       "    </tr>\n",
       "    <tr>\n",
       "      <th>5957</th>\n",
       "      <td>34482</td>\n",
       "      <td>Browning Version, The (1951)</td>\n",
       "      <td>NaN</td>\n",
       "    </tr>\n",
       "    <tr>\n",
       "      <th>7565</th>\n",
       "      <td>85565</td>\n",
       "      <td>Chalet Girl (2011)</td>\n",
       "      <td>NaN</td>\n",
       "    </tr>\n",
       "  </tbody>\n",
       "</table>\n",
       "</div>"
      ],
      "text/plain": [
       "      movieId                                         title  userId\n",
       "816      1076                         Innocents, The (1961)     NaN\n",
       "2211     2939                                Niagara (1953)     NaN\n",
       "2499     3338                        For All Mankind (1989)     NaN\n",
       "2587     3456  Color of Paradise, The (Rang-e khoda) (1999)     NaN\n",
       "3118     4194                I Know Where I'm Going! (1945)     NaN\n",
       "4037     5721                            Chosen, The (1981)     NaN\n",
       "4506     6668   Road Home, The (Wo de fu qin mu qin) (1999)     NaN\n",
       "4598     6849                                Scrooge (1970)     NaN\n",
       "4704     7020                                  Proof (1991)     NaN\n",
       "5020     7792                     Parallax View, The (1974)     NaN\n",
       "5293     8765                      This Gun for Hire (1942)     NaN\n",
       "5421    25855                  Roaring Twenties, The (1939)     NaN\n",
       "5452    26085                   Mutiny on the Bounty (1962)     NaN\n",
       "5749    30892            In the Realms of the Unreal (2004)     NaN\n",
       "5824    32160                      Twentieth Century (1934)     NaN\n",
       "5837    32371                     Call Northside 777 (1948)     NaN\n",
       "5957    34482                  Browning Version, The (1951)     NaN\n",
       "7565    85565                            Chalet Girl (2011)     NaN"
      ]
     },
     "execution_count": 113,
     "metadata": {},
     "output_type": "execute_result"
    }
   ],
   "source": [
    "ratings_by_movie = ratings.drop(columns=['rating', 'timestamp']).groupby('movieId').count()\n",
    "movies_ratings = movies.drop(columns=['genres']).merge(ratings_by_movie, on='movieId', how='left')\n",
    "\n",
    "movies_ratings[movies_ratings['userId'].isna()]"
   ]
  }
 ],
 "metadata": {
  "kernelspec": {
   "display_name": "Python 3 (ipykernel)",
   "language": "python",
   "name": "python3"
  },
  "language_info": {
   "codemirror_mode": {
    "name": "ipython",
    "version": 3
   },
   "file_extension": ".py",
   "mimetype": "text/x-python",
   "name": "python",
   "nbconvert_exporter": "python",
   "pygments_lexer": "ipython3",
   "version": "3.9.13"
  }
 },
 "nbformat": 4,
 "nbformat_minor": 5
}

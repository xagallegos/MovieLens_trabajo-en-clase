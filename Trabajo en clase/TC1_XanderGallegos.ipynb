{
 "cells": [
  {
   "cell_type": "markdown",
   "id": "90b148dca14ec1d3",
   "metadata": {
    "collapsed": false,
    "jupyter": {
     "outputs_hidden": false
    }
   },
   "source": [
    "- ¿Cuáles fueron los géneros mejor rankeados en promedio en el año 2005?\n",
    "- ¿Cuál es el top 5 de películas mejor rankeadas en promedio?\n",
    "- ¿Cuál es el género con más revies?\n",
    "- ¿Cuáles es el género por año con mejor rating entre el año 2000 y 2010?\n",
    "- ¿Cuál es el usuario con más críticas y cuál es su género favorito?"
   ]
  },
  {
   "cell_type": "code",
   "execution_count": 1,
   "id": "initial_id",
   "metadata": {},
   "outputs": [],
   "source": [
    "import pandas as pd"
   ]
  },
  {
   "cell_type": "code",
   "execution_count": 11,
   "id": "65297f6d-b192-47ed-8e13-966a532e3d44",
   "metadata": {},
   "outputs": [
    {
     "data": {
      "text/html": [
       "<div>\n",
       "<style scoped>\n",
       "    .dataframe tbody tr th:only-of-type {\n",
       "        vertical-align: middle;\n",
       "    }\n",
       "\n",
       "    .dataframe tbody tr th {\n",
       "        vertical-align: top;\n",
       "    }\n",
       "\n",
       "    .dataframe thead th {\n",
       "        text-align: right;\n",
       "    }\n",
       "</style>\n",
       "<table border=\"1\" class=\"dataframe\">\n",
       "  <thead>\n",
       "    <tr style=\"text-align: right;\">\n",
       "      <th></th>\n",
       "      <th>userId</th>\n",
       "      <th>movieId</th>\n",
       "      <th>rating</th>\n",
       "      <th>timestamp</th>\n",
       "    </tr>\n",
       "  </thead>\n",
       "  <tbody>\n",
       "    <tr>\n",
       "      <th>0</th>\n",
       "      <td>1</td>\n",
       "      <td>1</td>\n",
       "      <td>4.0</td>\n",
       "      <td>964982703</td>\n",
       "    </tr>\n",
       "    <tr>\n",
       "      <th>1</th>\n",
       "      <td>1</td>\n",
       "      <td>3</td>\n",
       "      <td>4.0</td>\n",
       "      <td>964981247</td>\n",
       "    </tr>\n",
       "    <tr>\n",
       "      <th>2</th>\n",
       "      <td>1</td>\n",
       "      <td>6</td>\n",
       "      <td>4.0</td>\n",
       "      <td>964982224</td>\n",
       "    </tr>\n",
       "    <tr>\n",
       "      <th>3</th>\n",
       "      <td>1</td>\n",
       "      <td>47</td>\n",
       "      <td>5.0</td>\n",
       "      <td>964983815</td>\n",
       "    </tr>\n",
       "    <tr>\n",
       "      <th>4</th>\n",
       "      <td>1</td>\n",
       "      <td>50</td>\n",
       "      <td>5.0</td>\n",
       "      <td>964982931</td>\n",
       "    </tr>\n",
       "  </tbody>\n",
       "</table>\n",
       "</div>"
      ],
      "text/plain": [
       "   userId  movieId  rating  timestamp\n",
       "0       1        1     4.0  964982703\n",
       "1       1        3     4.0  964981247\n",
       "2       1        6     4.0  964982224\n",
       "3       1       47     5.0  964983815\n",
       "4       1       50     5.0  964982931"
      ]
     },
     "execution_count": 11,
     "metadata": {},
     "output_type": "execute_result"
    }
   ],
   "source": [
    "ratings = pd.read_csv('../data/ratings.csv')\n",
    "ratings.head()"
   ]
  },
  {
   "cell_type": "code",
   "execution_count": 47,
   "id": "68e1348a-2aa7-462d-bf76-ef740da388b4",
   "metadata": {},
   "outputs": [
    {
     "name": "stdout",
     "output_type": "stream",
     "text": [
      "(9742, 3)\n"
     ]
    },
    {
     "data": {
      "text/html": [
       "<div>\n",
       "<style scoped>\n",
       "    .dataframe tbody tr th:only-of-type {\n",
       "        vertical-align: middle;\n",
       "    }\n",
       "\n",
       "    .dataframe tbody tr th {\n",
       "        vertical-align: top;\n",
       "    }\n",
       "\n",
       "    .dataframe thead th {\n",
       "        text-align: right;\n",
       "    }\n",
       "</style>\n",
       "<table border=\"1\" class=\"dataframe\">\n",
       "  <thead>\n",
       "    <tr style=\"text-align: right;\">\n",
       "      <th></th>\n",
       "      <th>movieId</th>\n",
       "      <th>title</th>\n",
       "      <th>genres</th>\n",
       "    </tr>\n",
       "  </thead>\n",
       "  <tbody>\n",
       "    <tr>\n",
       "      <th>0</th>\n",
       "      <td>1</td>\n",
       "      <td>Toy Story (1995)</td>\n",
       "      <td>Adventure|Animation|Children|Comedy|Fantasy</td>\n",
       "    </tr>\n",
       "    <tr>\n",
       "      <th>1</th>\n",
       "      <td>2</td>\n",
       "      <td>Jumanji (1995)</td>\n",
       "      <td>Adventure|Children|Fantasy</td>\n",
       "    </tr>\n",
       "    <tr>\n",
       "      <th>2</th>\n",
       "      <td>3</td>\n",
       "      <td>Grumpier Old Men (1995)</td>\n",
       "      <td>Comedy|Romance</td>\n",
       "    </tr>\n",
       "    <tr>\n",
       "      <th>3</th>\n",
       "      <td>4</td>\n",
       "      <td>Waiting to Exhale (1995)</td>\n",
       "      <td>Comedy|Drama|Romance</td>\n",
       "    </tr>\n",
       "    <tr>\n",
       "      <th>4</th>\n",
       "      <td>5</td>\n",
       "      <td>Father of the Bride Part II (1995)</td>\n",
       "      <td>Comedy</td>\n",
       "    </tr>\n",
       "  </tbody>\n",
       "</table>\n",
       "</div>"
      ],
      "text/plain": [
       "   movieId                               title  \\\n",
       "0        1                    Toy Story (1995)   \n",
       "1        2                      Jumanji (1995)   \n",
       "2        3             Grumpier Old Men (1995)   \n",
       "3        4            Waiting to Exhale (1995)   \n",
       "4        5  Father of the Bride Part II (1995)   \n",
       "\n",
       "                                        genres  \n",
       "0  Adventure|Animation|Children|Comedy|Fantasy  \n",
       "1                   Adventure|Children|Fantasy  \n",
       "2                               Comedy|Romance  \n",
       "3                         Comedy|Drama|Romance  \n",
       "4                                       Comedy  "
      ]
     },
     "execution_count": 47,
     "metadata": {},
     "output_type": "execute_result"
    }
   ],
   "source": [
    "movies = pd.read_csv('../data/movies.csv')\n",
    "print(movies.shape)\n",
    "movies.head()"
   ]
  },
  {
   "cell_type": "code",
   "execution_count": 54,
   "id": "cc768b74-8a74-485c-a25a-ad6f1db7df80",
   "metadata": {},
   "outputs": [],
   "source": [
    "# ¿Cuál es el top 5 de películas mejor rankeadas en promedio?\n",
    "\n",
    "movies_groupby = ratings.groupby(['movieId'])\n",
    "ratings_mean = movies_groupby.mean()"
   ]
  },
  {
   "cell_type": "code",
   "execution_count": 53,
   "id": "fb469193-3bf8-4232-800a-7ae4dcc1e64a",
   "metadata": {},
   "outputs": [
    {
     "data": {
      "text/html": [
       "<div>\n",
       "<style scoped>\n",
       "    .dataframe tbody tr th:only-of-type {\n",
       "        vertical-align: middle;\n",
       "    }\n",
       "\n",
       "    .dataframe tbody tr th {\n",
       "        vertical-align: top;\n",
       "    }\n",
       "\n",
       "    .dataframe thead th {\n",
       "        text-align: right;\n",
       "    }\n",
       "</style>\n",
       "<table border=\"1\" class=\"dataframe\">\n",
       "  <thead>\n",
       "    <tr style=\"text-align: right;\">\n",
       "      <th></th>\n",
       "      <th>rating</th>\n",
       "      <th>title</th>\n",
       "      <th>genres</th>\n",
       "    </tr>\n",
       "    <tr>\n",
       "      <th>movieId</th>\n",
       "      <th></th>\n",
       "      <th></th>\n",
       "      <th></th>\n",
       "    </tr>\n",
       "  </thead>\n",
       "  <tbody>\n",
       "    <tr>\n",
       "      <th>88448</th>\n",
       "      <td>5.0</td>\n",
       "      <td>Paper Birds (Pájaros de papel) (2010)</td>\n",
       "      <td>Comedy|Drama</td>\n",
       "    </tr>\n",
       "    <tr>\n",
       "      <th>100556</th>\n",
       "      <td>5.0</td>\n",
       "      <td>Act of Killing, The (2012)</td>\n",
       "      <td>Documentary</td>\n",
       "    </tr>\n",
       "    <tr>\n",
       "      <th>143031</th>\n",
       "      <td>5.0</td>\n",
       "      <td>Jump In! (2007)</td>\n",
       "      <td>Comedy|Drama|Romance</td>\n",
       "    </tr>\n",
       "    <tr>\n",
       "      <th>143511</th>\n",
       "      <td>5.0</td>\n",
       "      <td>Human (2015)</td>\n",
       "      <td>Documentary</td>\n",
       "    </tr>\n",
       "    <tr>\n",
       "      <th>143559</th>\n",
       "      <td>5.0</td>\n",
       "      <td>L.A. Slasher (2015)</td>\n",
       "      <td>Comedy|Crime|Fantasy</td>\n",
       "    </tr>\n",
       "    <tr>\n",
       "      <th>...</th>\n",
       "      <td>...</td>\n",
       "      <td>...</td>\n",
       "      <td>...</td>\n",
       "    </tr>\n",
       "    <tr>\n",
       "      <th>157172</th>\n",
       "      <td>0.5</td>\n",
       "      <td>Wizards of the Lost Kingdom II (1989)</td>\n",
       "      <td>Action|Fantasy</td>\n",
       "    </tr>\n",
       "    <tr>\n",
       "      <th>85334</th>\n",
       "      <td>0.5</td>\n",
       "      <td>Hard Ticket to Hawaii (1987)</td>\n",
       "      <td>Action|Comedy</td>\n",
       "    </tr>\n",
       "    <tr>\n",
       "      <th>53453</th>\n",
       "      <td>0.5</td>\n",
       "      <td>Starcrash (a.k.a. Star Crash) (1978)</td>\n",
       "      <td>Action|Adventure|Fantasy|Sci-Fi</td>\n",
       "    </tr>\n",
       "    <tr>\n",
       "      <th>8494</th>\n",
       "      <td>0.5</td>\n",
       "      <td>Cincinnati Kid, The (1965)</td>\n",
       "      <td>Drama</td>\n",
       "    </tr>\n",
       "    <tr>\n",
       "      <th>71810</th>\n",
       "      <td>0.5</td>\n",
       "      <td>Legionnaire (1998)</td>\n",
       "      <td>Action|Adventure|Drama|War</td>\n",
       "    </tr>\n",
       "  </tbody>\n",
       "</table>\n",
       "<p>9724 rows × 3 columns</p>\n",
       "</div>"
      ],
      "text/plain": [
       "         rating                                  title  \\\n",
       "movieId                                                  \n",
       "88448       5.0  Paper Birds (Pájaros de papel) (2010)   \n",
       "100556      5.0             Act of Killing, The (2012)   \n",
       "143031      5.0                        Jump In! (2007)   \n",
       "143511      5.0                           Human (2015)   \n",
       "143559      5.0                    L.A. Slasher (2015)   \n",
       "...         ...                                    ...   \n",
       "157172      0.5  Wizards of the Lost Kingdom II (1989)   \n",
       "85334       0.5           Hard Ticket to Hawaii (1987)   \n",
       "53453       0.5   Starcrash (a.k.a. Star Crash) (1978)   \n",
       "8494        0.5             Cincinnati Kid, The (1965)   \n",
       "71810       0.5                     Legionnaire (1998)   \n",
       "\n",
       "                                  genres  \n",
       "movieId                                   \n",
       "88448                       Comedy|Drama  \n",
       "100556                       Documentary  \n",
       "143031              Comedy|Drama|Romance  \n",
       "143511                       Documentary  \n",
       "143559              Comedy|Crime|Fantasy  \n",
       "...                                  ...  \n",
       "157172                    Action|Fantasy  \n",
       "85334                      Action|Comedy  \n",
       "53453    Action|Adventure|Fantasy|Sci-Fi  \n",
       "8494                               Drama  \n",
       "71810         Action|Adventure|Drama|War  \n",
       "\n",
       "[9724 rows x 3 columns]"
      ]
     },
     "execution_count": 53,
     "metadata": {},
     "output_type": "execute_result"
    }
   ],
   "source": [
    "ratings_mean.merge(movies, on='movieId').drop(columns=['userId', 'timestamp']).set_index('movieId').sort_values('rating', ascending=False)"
   ]
  },
  {
   "cell_type": "code",
   "execution_count": null,
   "id": "b30ee292-5aa6-4994-ae0c-9092d4128906",
   "metadata": {},
   "outputs": [],
   "source": [
    "# ¿Cuál es el género con más reviews?"
   ]
  },
  {
   "cell_type": "code",
   "execution_count": 27,
   "id": "e6e70658-2db5-41a5-bbab-227ef005ebb9",
   "metadata": {},
   "outputs": [
    {
     "data": {
      "text/plain": [
       "movieId\n",
       "1         215\n",
       "2         110\n",
       "3          52\n",
       "4           7\n",
       "5          49\n",
       "         ... \n",
       "193581      1\n",
       "193583      1\n",
       "193585      1\n",
       "193587      1\n",
       "193609      1\n",
       "Name: userId, Length: 9724, dtype: int64"
      ]
     },
     "execution_count": 27,
     "metadata": {},
     "output_type": "execute_result"
    }
   ],
   "source": [
    "movies_groupby.count()['userId']\n",
    "# movies['ratings_mean'] = movies_groupby.mean()['rating']"
   ]
  },
  {
   "cell_type": "code",
   "execution_count": 39,
   "id": "6989b173-8954-4baa-8c5c-06ee144d7390",
   "metadata": {},
   "outputs": [
    {
     "data": {
      "text/plain": [
       "userId\n",
       "414    2698\n",
       "599    2478\n",
       "474    2108\n",
       "448    1864\n",
       "274    1346\n",
       "Name: rating, dtype: int64"
      ]
     },
     "execution_count": 39,
     "metadata": {},
     "output_type": "execute_result"
    }
   ],
   "source": [
    "ratings_per_user = ratings.groupby(['userId']).count()\n",
    "ratings_per_user['rating'].sort_values(ascending=False)[:5]"
   ]
  }
 ],
 "metadata": {
  "kernelspec": {
   "display_name": "Python 3 (ipykernel)",
   "language": "python",
   "name": "python3"
  },
  "language_info": {
   "codemirror_mode": {
    "name": "ipython",
    "version": 3
   },
   "file_extension": ".py",
   "mimetype": "text/x-python",
   "name": "python",
   "nbconvert_exporter": "python",
   "pygments_lexer": "ipython3",
   "version": "3.9.13"
  }
 },
 "nbformat": 4,
 "nbformat_minor": 5
}
